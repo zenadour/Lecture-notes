{
  "cells": [
    {
      "cell_type": "markdown",
      "metadata": {
        "id": "kF_glT954cyP"
      },
      "source": [
        "Zena Khadour \n",
        "<br>\n",
        "Date: Jan. 17, 2021\n",
        "<br>\n",
        "PHYS 2030 W22"
      ]
    },
    {
      "cell_type": "markdown",
      "metadata": {
        "id": "-rlRBwRs4cyR"
      },
      "source": [
        "## <center><font color=#46769B>Exercise 3: Buffon's needle</font></center>\n",
        "\n",
        "## <font color=#46769B>Introduction:</font>\n",
        "\n",
        "Our goals for this notebook are:\n",
        "- Use Monte Carlo sampling to make a numerical estimation for $\\pi$\n",
        "\n",
        "Required reading:\n",
        "- *Lesson 2: Monte Carlo sampling*"
      ]
    },
    {
      "cell_type": "markdown",
      "metadata": {
        "id": "CvRrQXqc4cyR"
      },
      "source": [
        "## <font color=#46769B>Buffon's needle:</font>\n",
        "\n",
        "__Buffon's needle__ is a classic problem in Monte Carlo sampling, originally posed by the 18th century naturalist and mathematician George-Louis Leclerc. The problem is as follows:\n",
        "> Suppose you drop needles of length $\\ell$ at random onto a floor that has a series of equidistant parallel lines, with separation distance $d$. Provided $\\ell \\le d$, the probability that a needle will cross a line on the floor is\n",
        "$$p = \\frac{2\\ell}{\\pi d} \\, . \\qquad {\\rm (1)} $$\n",
        "\n",
        "![image.png](attachment:image.png)\n",
        "\n",
        "[Figure credit: Wolfram Mathworld](https://mathworld.wolfram.com/BuffonsNeedleProblem.html)\n",
        "\n",
        "## <font color=#46769B>Goal:</font>\n",
        "We will *not* prove this result analytically. (Proofs can be found online for the curious reader.) \n",
        "Rearranging Eq. (1), we have \n",
        "$$\\pi = \\frac{2\\ell}{p d} \\, . \\qquad {\\rm (2)} $$\n",
        "Our goal is to perform a Monte Carlo simulation where we drop $N$ needles on a suitably-lined floor, estimate the probability $p$, and thereby provide a numerical estimate for $\\pi$ according to Eq. (2).\n",
        "\n",
        "For each neeedle drop, we have two discrete choices, labeled by $x$: \n",
        "- The needle crosses a line, labeled as $x=1$, occuring with probability $p$.\n",
        "- The needle does not cross a line, labeled as $x=0$, occuring with probability $1-p$.\n",
        "\n",
        "We write it in this way to make it clear that we are dealing with the same Bernoulli distribution we had for flipping a coin. Although we don't know $p$ *a priori*, we recall that $\\langle x \\rangle$ approaches the true mean $\\mu = p$ for large $N$, according to the Law of Large Numbers and the Central Limit Theorem.\n",
        "\n",
        "In other words, we simply count the number of needles that cross a line, $N_{\\rm cross}$. Then $\\langle x \\rangle = N_{\\rm cross}/N$ is our estimate for $p$, which allows us to estimate $\\pi$.\n"
      ]
    },
    {
      "cell_type": "markdown",
      "metadata": {
        "id": "yj5SM-jU4cyR"
      },
      "source": [
        "## <font color=#46769B>Exercise</font>\n",
        "\n",
        "### <font color=#46769B>Part (a)</font>\n",
        "\n",
        "Perform a simulation as described above, setting $\\ell = d = 1$. Write a function `buffon_needle(num)` that will drop `num` needles and return $\\langle x \\rangle$, the fraction of needles in your samples that cross a line. (Neglect the width of the needles and assume they are simply straight line segments.)\n",
        "\n",
        "*Hint*: Label each end of the needle with coordinates in the plane of the floor, $\\vec{r}_1 = (x_1, y_1)$ and $\\vec{r}_2 = (x_2, y_2)$. First, randomly sample $\\vec{r}_1$, noting:\n",
        "- There is a periodic translational symmetry in the $x$-direction, so you can limit your attention to $0 \\le x_1 \\le d$.\n",
        "- There is translational symmetry in the $y$ direction, so you can choose $y_1$ to be anything you like.\n",
        "\n",
        "Next, randomly choose $\\vec{r}_2$, such that\n",
        "- All orientations of the needle are equally likely.\n",
        "- The length of the needle, $|\\vec{r}_2 - \\vec{r}_1|$, is fixed to be $d$.\n",
        "\n",
        "### <font color=#46769B>Part (b)</font>\n",
        "\n",
        "For $N=10^4$, calculate the mean value of $\\pi$, $\\langle \\pi \\rangle$. What is uncertainty on this value?"
      ]
    },
    {
      "cell_type": "code",
      "execution_count": 53,
      "metadata": {
        "id": "cvsff7374cyS"
      },
      "outputs": [],
      "source": [
        "# Your answer to the exercise \n",
        "\n",
        "import numpy as np\n",
        "import matplotlib.pyplot as plt\n",
        "\n",
        "def buffon_needle(num):\n",
        "    \n",
        "# Your code here\n",
        "\n",
        "#sampling for r1 \n",
        "\n",
        " l = 1 \n",
        "d = 1\n",
        "    \n",
        "r1x_samples = np.random.uniform(low = 0,high = d)\n",
        "r1y_samples = np.random.uniform(low = 0,high = 2)\n",
        "\n",
        "r1x = [r1x_samples]\n",
        "r1y = [r1y_samples]\n",
        "\n",
        "coordinates_r1 = []\n",
        "xlength = r1x\n",
        "ylength = r1y\n",
        "coordinates_r1.append((x, y))\n",
        "    \n",
        "#sampling for r2 \n",
        "\n",
        "orientation = theta \n",
        "\n",
        "r2x_samples = np.random.uniform(theta)\n",
        "r2y_samples = d \n",
        "\n",
        "r2x = [r2x_samples]\n",
        "r2y = [r2y_samples]\n",
        "\n",
        "coordinates_r2 = []\n",
        "xlength = r1x\n",
        "ylength = r1y\n",
        "coordinates_r2.append((x, y))\n",
        "\n",
        "#Calculate N_cross \n",
        "\n",
        "#p = N_cross/N \n",
        "#pi = 2/p \n",
        "\n",
        "\n",
        "# I'm not sure how to finish :(\n",
        "    \n",
        "    \n",
        "\n"
      ]
    },
    {
      "cell_type": "code",
      "execution_count": null,
      "metadata": {
        "id": "dwcWTAXk4cyT"
      },
      "outputs": [],
      "source": [
        ""
      ]
    }
  ],
  "metadata": {
    "kernelspec": {
      "display_name": "Python 3",
      "language": "python",
      "name": "python3"
    },
    "language_info": {
      "codemirror_mode": {
        "name": "ipython",
        "version": 3
      },
      "file_extension": ".py",
      "mimetype": "text/x-python",
      "name": "python",
      "nbconvert_exporter": "python",
      "pygments_lexer": "ipython3",
      "version": "3.7.6"
    },
    "colab": {
      "name": "Exercise 3 - Buffon's Needle.ipynb",
      "provenance": []
    }
  },
  "nbformat": 4,
  "nbformat_minor": 0
}