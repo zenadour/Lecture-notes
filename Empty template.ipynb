{
  "cells": [
    {
      "cell_type": "markdown",
      "metadata": {
        "id": "TCzZ_aLK-EQc"
      },
      "source": [
        "# Research Notebook 1\n",
        "## Zena Khadour \n",
        "## Date: Feb 13 - 17"
      ]
    },
    {
      "cell_type": "markdown",
      "metadata": {
        "id": "D3I86iNG-EQe"
      },
      "source": [
        "# 1: Experience\n",
        "\n",
        "For this week, I read a paper on the two body problem. I also attempted to solve two coupled differential equations relating the radius and the angle from the paper by a neutral network that was coded using the python package Deepxde.\n",
        "\n",
        "## Motivation:\n",
        "\n",
        "This exercise was important to practise using neural networks and the Deepxde package to solve a relatively simple and well-known problem in physics. This activity helped me apply the knowledge I acquired in the past two weeks, which occured through preparing my journal club presentation on the two-body problem and the taking a google crash course on neural networks and machine learning. "
      ]
    },
    {
      "cell_type": "markdown",
      "metadata": {
        "id": "WcCVa6rE-EQe"
      },
      "source": [
        "# 2: What? (What happened?)\n",
        "## Describe what happened during your activities for the week.\n",
        "\n",
        "The main focus for this week was to train the neural netwerk to solve euqation (34) from the two-body problem paper. \n",
        "\n",
        "\\begin{equation} \n",
        "E = \\frac{1}{2} m_{*} \\frac{d^{2}r}{dt^{2}} + U_{eff} ; \\frac{d \\theta}{dt} = \\frac{l}{m_{*} r^{2}}  \n",
        "\\end{equation}\n",
        "\n",
        "As an important reality check, I started off by solving the system of differential equations above using python's package solve.ivp, as follows: "
      ]
    },
    {
      "cell_type": "code",
      "source": [
        "import numpy as np\n",
        "import matplotlib.pyplot as plt\n",
        "from scipy.integrate import solve_ivp\n",
        "import tensorflow as tf \n",
        "\n",
        "\n",
        "l = 1 \n",
        "m = 1 #Reduced mass of the system \n",
        "\n",
        "def ode_system(t, y):\n",
        "    y1, y2, y3 = y \n",
        "    dy1_dt = y2\n",
        "    dy2_dt = y2**(-3) - y2**(-2)\n",
        "    dy3_dt = l * (m * y2**2)**(-1)\n",
        "    return [dy1_dt,dy2_dt,dy3_dt]\n",
        "\n",
        "y0 = [1, 1, 0]\n",
        "\n",
        "sol = solve_ivp(ode_system, [0, np.pi*2], y0)\n",
        "\n",
        "plt.plot(sol.t, sol.y[1], label= \"Radius\")\n",
        "plt.plot(sol.t, sol.y[2], label= \"Theta\")\n",
        "plt.plot(sol.y[1], sol.y[2], label= \"Radius w.r.t Theta\")\n",
        "plt.xlabel('Time')\n",
        "plt.ylabel('Y')\n",
        "plt.legend(loc=\"upper left\")\n",
        "plt.show()"
      ],
      "metadata": {
        "colab": {
          "base_uri": "https://localhost:8080/",
          "height": 279
        },
        "id": "FTtNJ-38z1CQ",
        "outputId": "74b8051c-d14d-4962-89de-a1c2e664568f"
      },
      "execution_count": 1,
      "outputs": [
        {
          "output_type": "display_data",
          "data": {
            "text/plain": [
              "<Figure size 432x288 with 1 Axes>"
            ],
            "image/png": "[encoded data removed]"
          },
          "metadata": {
            "needs_background": "light"
          }
        }
      ]
    },
    {
      "cell_type": "markdown",
      "source": [
        "The resulting plot shows that the radius is constant with time but the angle increases as time progresses. \n",
        "\n",
        "The next step was to solve the same systems of equations using a neural network."
      ],
      "metadata": {
        "id": "crB6g27_z65R"
      }
    },
    {
      "cell_type": "markdown",
      "source": [
        "The following code represents my attempt at usnig the neural network to solve the effective one-body problem. The code doesn't work perfectly quite yet as I'm still facing dimensinality problems."
      ],
      "metadata": {
        "id": "GgtjYMIEahk2"
      }
    },
    {
      "cell_type": "code",
      "source": [
        "! pip install deepxde\n",
        "import deepxde as dde\n",
        "\n",
        "def ode_system(x, y):\n",
        "    \"\"\"ODE system.\n",
        "    \n",
        "    \"\"\"\n",
        "    # Most backends\n",
        "    y1, y2, y3 = y[:, 0:1], y[:, 1:2], y[:, 2:]\n",
        "    dy1_x = dde.grad.jacobian(y, x, i=0)\n",
        "    dy2_x = dde.grad.jacobian(y, x, i=1)\n",
        "    dy3_x = dde.grad.jacobian(y, x, i=2)\n",
        "    return [dy1_x - y2, dy2_x* y2**3 - 1 + y2, dy3_x - (l * (m * y2**2)**(-1))]\n",
        "\n",
        "def boundary(_, on_initial):\n",
        "    return on_initial\n",
        "\n",
        "def func(x):\n",
        "    \"\"\"\n",
        "    y1 = sin(x)\n",
        "    y2 = cos(x)\n",
        "    \"\"\"\n",
        "    return np.hstack((np.sin(x), np.cos(x)))\n",
        "\n",
        "geom = dde.geometry.TimeDomain(0, 10)\n",
        "ic1 = dde.icbc.IC(geom, lambda x: 0, boundary, component=0)\n",
        "ic2 = dde.icbc.IC(geom, lambda x: 1, boundary, component=1)\n",
        "ic3 = dde.icbc.IC(geom, lambda x: 2, boundary, component=2)\n",
        "data = dde.data.PDE(geom, ode_system, [ic1, ic2], 35, 3, solution=func, num_test=1000)\n",
        "\n",
        "layer_size = [1] + [50] * 3 + [3]\n",
        "activation = \"tanh\"\n",
        "initializer = \"Glorot uniform\"\n",
        "net = dde.nn.FNN(layer_size, activation, initializer)\n",
        "\n",
        "model = dde.Model(data, net)\n",
        "model.compile(\"adam\", lr=0.001) # metrics=[\"l2 relative error\"])\n",
        "\n",
        "losshistory, train_state = model.train(iterations=20000)\n",
        "\n",
        "#dde.saveplot(losshistory, train_state, issave=True, isplot=True)"
      ],
      "metadata": {
        "id": "Hs8Ufev71SKX"
      },
      "execution_count": null,
      "outputs": []
    },
    {
      "cell_type": "markdown",
      "source": [
        "There are two approaches I can follow to fix the above: \\\\\n",
        "\n",
        "1. One suggestions is to apply nondimensionalization on the above system of equations and reattempt to solve the differential equations using the neural network. \\\\\n",
        "\n",
        "2. Another approach would be to fix the dimensionality errors in the current syntax by tracking the mistake to its origin using problem solving. I think this error has arised after I rewrote my system of differnetial equations as three coupled equations instead of two. I have added an extra initial condition as a result, but it seems like I have to increase the boundary points that need to be sampled. "
      ],
      "metadata": {
        "id": "Jj8DjeU3KUs0"
      }
    },
    {
      "cell_type": "markdown",
      "metadata": {
        "id": "ZKsYU1Im-EQf"
      },
      "source": [
        "# 3: So what? (What does it mean?)\n",
        "## Describe your results\n",
        "\n",
        "Some important take-aways from the paper included: \n",
        "1. We are able to reduce a two-body problem in three-dimensional space into a one-body problem in one dimension using conservation of linear and angular momentum, as well as conservation of energy. \n",
        "2. The presence of a minimum in the effective potential leads to radial oscillations \n",
        "3. A circular orbit occurs if the particle sits at the bottom of the potential well. \n",
        "4. If there are no minima or the particle has sufficient kinetic energy then its motion will not be bound and it can escape to infinity.\n",
        "\n",
        "![picture](https://drive.google.com/file/d/1-NbKXJ9VgFLxcSBLjk8tBzsZ8idYj6Wm/view?usp=share_link)\n",
        "\n",
        "image credits: ref[1]\n",
        "5. The Kepler problem is a two-body problem with central potential given by two special cases: \n",
        " \n",
        "- $U(r) = \\frac{- \\gamma}{r}$; $\\gamma > 0$\n",
        "- $U(r)$ = $\\gamma r^{2}$; $\\gamma > 0$\n",
        "\n",
        "\n",
        "\n",
        "It was important to go through this exercise to develop a better understading of the operations carried by the neural network to arrive at the desired solution. \\\\\n",
        "The results I obtained can be used to compare/check the solutions obtained when using post-newtonian expansion, such that PN = 1. "
      ]
    },
    {
      "cell_type": "markdown",
      "metadata": {
        "id": "mCbJ5Hxp-EQf"
      },
      "source": [
        "# 4. Now what? (What's next?)\n",
        "## Plan for the next week\n",
        "\n",
        "The plan for next week is to adopt one of the approaches mentioned above to fix the dimensionality problem in my code.\n",
        "\n",
        "Secondly, vary the parameters of the neural networks and notice the effect it will have on solution by comparig it to the classical solution. \n",
        "\n",
        "Additionally, I'm going to apply the Yukawa potential equations to the neural network and attempt to get the same solution obtained in the paper. \n",
        "\n",
        "\n",
        "\n"
      ]
    },
    {
      "cell_type": "markdown",
      "metadata": {
        "id": "7PlQ_Ia_-EQf"
      },
      "source": [
        "# 5. Bibliography\n",
        "\n",
        "[1]https://web.physics.ucsb.edu/~fratus/phys103/LN/TBP.pdf\n",
        "\n",
        "[2] Lu, L., Meng, X., Mao, Z., & Karniadakis, G. E. (2021). DeepXDE: A deep learning library for solving differential equations . DeepXDE. Retrieved 2022, from https://deepxde.readthedocs.io/en/latest/ "
      ]
    },
    {
      "cell_type": "code",
      "execution_count": null,
      "metadata": {
        "id": "vDgWcnbL-EQf"
      },
      "outputs": [],
      "source": []
    }
  ],
  "metadata": {
    "kernelspec": {
      "display_name": "Python 3",
      "language": "python",
      "name": "python3"
    },
    "language_info": {
      "codemirror_mode": {
        "name": "ipython",
        "version": 3
      },
      "file_extension": ".py",
      "mimetype": "text/x-python",
      "name": "python",
      "nbconvert_exporter": "python",
      "pygments_lexer": "ipython3",
      "version": "3.7.6"
    },
    "colab": {
      "provenance": []
    }
  },
  "nbformat": 4,
  "nbformat_minor": 0
}